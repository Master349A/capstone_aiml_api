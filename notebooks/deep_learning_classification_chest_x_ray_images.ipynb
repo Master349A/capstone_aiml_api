{
  "cells": [
    {
      "cell_type": "markdown",
      "metadata": {
        "id": "view-in-github",
        "colab_type": "text"
      },
      "source": [
        "<a href=\"https://colab.research.google.com/github/Master349A/capstone_aiml_api/blob/main/notebooks/deep_learning_classification_chest_x_ray_images.ipynb\" target=\"_parent\"><img src=\"https://colab.research.google.com/assets/colab-badge.svg\" alt=\"Open In Colab\"/></a>"
      ]
    },
    {
      "cell_type": "code",
      "execution_count": null,
      "id": "fa99b793",
      "metadata": {
        "_cell_guid": "b1076dfc-b9ad-4769-8c92-a6c4dae69d19",
        "_uuid": "8f2839f25d086af736a60e9eeb907d3b93b6e0e5",
        "execution": {
          "iopub.execute_input": "2022-05-31T14:23:49.915714Z",
          "iopub.status.busy": "2022-05-31T14:23:49.914585Z",
          "iopub.status.idle": "2022-05-31T14:24:08.049599Z",
          "shell.execute_reply": "2022-05-31T14:24:08.048739Z"
        },
        "papermill": {
          "duration": 18.153584,
          "end_time": "2022-05-31T14:24:08.049805",
          "exception": false,
          "start_time": "2022-05-31T14:23:49.896221",
          "status": "completed"
        },
        "tags": [],
        "id": "fa99b793"
      },
      "outputs": [],
      "source": [
        "# This Python 3 environment comes with many helpful analytics libraries installed\n",
        "# It is defined by the kaggle/python Docker image: https://github.com/kaggle/docker-python\n",
        "# For example, here's several helpful packages to load\n",
        "\n",
        "import numpy as np # linear algebra\n",
        "import pandas as pd # data processing, CSV file I/O (e.g. pd.read_csv)\n",
        "\n",
        "# Input data files are available in the read-only \"../input/\" directory\n",
        "# For example, running this (by clicking run or pressing Shift+Enter) will list all files under the input directory\n",
        "\n",
        "import os\n",
        "for dirname, _, filenames in os.walk('/content/drive/MyDrive/data/chest_xray'):\n",
        "    for filename in filenames:\n",
        "        print(os.path.join(dirname, filename))\n",
        "\n",
        "# You can write up to 20GB to the current directory (/kaggle/working/) that gets preserved as output when you create a version using \"Save & Run All\" \n",
        "# You can also write temporary files to /kaggle/temp/, but they won't be saved outside of the current session"
      ]
    },
    {
      "cell_type": "code",
      "source": [
        "from google.colab import drive\n",
        "drive.mount('/content/drive')"
      ],
      "metadata": {
        "colab": {
          "base_uri": "https://localhost:8080/"
        },
        "id": "3AmVO6yjBd_2",
        "outputId": "61741020-b8f1-4e40-cf87-a15eb0d5d063"
      },
      "id": "3AmVO6yjBd_2",
      "execution_count": null,
      "outputs": [
        {
          "output_type": "stream",
          "name": "stdout",
          "text": [
            "Mounted at /content/drive\n"
          ]
        }
      ]
    },
    {
      "cell_type": "markdown",
      "source": [
        "<h2>Step 1: Importing Libraries</h2>\n",
        "First we import all the libraries that we will need for our program. This includes: \n",
        "<ol>\n",
        "<li> tensorflow - This is the main backbone of our ML model\n",
        "<li> keras - It is an high level api of tensorflow that is used to create the NN model\n",
        "<li> sklearn - This lib provides various tools to evaluate the accuracy of the model we train. \n",
        "</ol>"
      ],
      "metadata": {
        "id": "gI_mOL35zaw2"
      },
      "id": "gI_mOL35zaw2"
    },
    {
      "cell_type": "code",
      "execution_count": null,
      "id": "ac19ffa6",
      "metadata": {
        "execution": {
          "iopub.execute_input": "2022-05-31T14:24:08.184737Z",
          "iopub.status.busy": "2022-05-31T14:24:08.183725Z",
          "iopub.status.idle": "2022-05-31T14:24:16.207197Z",
          "shell.execute_reply": "2022-05-31T14:24:16.206589Z",
          "shell.execute_reply.started": "2022-03-22T21:53:14.254939Z"
        },
        "papermill": {
          "duration": 8.094247,
          "end_time": "2022-05-31T14:24:16.207328",
          "exception": false,
          "start_time": "2022-05-31T14:24:08.113081",
          "status": "completed"
        },
        "tags": [],
        "id": "ac19ffa6"
      },
      "outputs": [],
      "source": [
        "import tensorflow as tf\n",
        "import seaborn as sns\n",
        "from matplotlib import pyplot as plt\n",
        "from keras.preprocessing.image import ImageDataGenerator\n",
        "import numpy as np # linear algebra\n",
        "import pandas as pd # data processing, CSV file I/O (e.g. pd.read_csv)\n",
        "\n",
        "## import keras\n",
        "\n",
        "import keras\n",
        "from keras.models import Sequential\n",
        "from keras.layers import Dense\n",
        "from keras.layers import Conv2D\n",
        "from keras.layers import MaxPool2D\n",
        "from keras.layers import Flatten \n",
        "from keras.layers import Dropout\n",
        "from keras.layers import BatchNormalization\n",
        "from keras.preprocessing.image import ImageDataGenerator\n",
        "from keras.callbacks import ReduceLROnPlateau\n",
        "from keras.utils.vis_utils import plot_model\n",
        "\n",
        "## import sklearn \n",
        "\n",
        "from sklearn import metrics\n",
        "from sklearn.metrics import accuracy_score\n",
        "from sklearn.metrics import precision_score\n",
        "from sklearn.metrics import recall_score\n",
        "from sklearn.metrics import f1_score\n",
        "from sklearn.metrics import roc_auc_score\n",
        "from sklearn.metrics import roc_curve\n",
        "from sklearn.metrics import classification_report\n",
        "from sklearn.metrics import confusion_matrix\n",
        "from sklearn.model_selection import train_test_split"
      ]
    },
    {
      "cell_type": "code",
      "source": [
        "print(tf.__version__)\n",
        "print(keras.__version__)\n",
        "print(pd.__version__)\n",
        "!python --version"
      ],
      "metadata": {
        "colab": {
          "base_uri": "https://localhost:8080/"
        },
        "id": "sgbS1TJic61q",
        "outputId": "137e3dc9-752f-47de-d46b-f15af7ca67eb"
      },
      "id": "sgbS1TJic61q",
      "execution_count": null,
      "outputs": [
        {
          "output_type": "stream",
          "name": "stdout",
          "text": [
            "2.8.2\n",
            "2.8.0\n",
            "Python 3.7.13\n"
          ]
        }
      ]
    },
    {
      "cell_type": "markdown",
      "id": "c782881d",
      "metadata": {
        "papermill": {
          "duration": 0.0627,
          "end_time": "2022-05-31T14:24:16.332378",
          "exception": false,
          "start_time": "2022-05-31T14:24:16.269678",
          "status": "completed"
        },
        "tags": [],
        "id": "c782881d"
      },
      "source": [
        "**Training Data** <br>\n",
        "Here we generate the training data that will be used to train our NN model. We import the dataset and perform augmentation by shearing, rescaling and flipping. This will increase the training space and make it more diverse leading to better accuracy. "
      ]
    },
    {
      "cell_type": "code",
      "execution_count": null,
      "id": "f839ebd3",
      "metadata": {
        "execution": {
          "iopub.execute_input": "2022-05-31T14:24:16.459867Z",
          "iopub.status.busy": "2022-05-31T14:24:16.459131Z",
          "iopub.status.idle": "2022-05-31T14:24:18.237418Z",
          "shell.execute_reply": "2022-05-31T14:24:18.236762Z",
          "shell.execute_reply.started": "2022-03-22T21:53:18.758791Z"
        },
        "papermill": {
          "duration": 1.841837,
          "end_time": "2022-05-31T14:24:18.237562",
          "exception": false,
          "start_time": "2022-05-31T14:24:16.395725",
          "status": "completed"
        },
        "tags": [],
        "colab": {
          "base_uri": "https://localhost:8080/"
        },
        "id": "f839ebd3",
        "outputId": "d2d483e4-9aa7-463f-902c-5512e856bf19"
      },
      "outputs": [
        {
          "output_type": "stream",
          "name": "stdout",
          "text": [
            "Found 5216 images belonging to 2 classes.\n"
          ]
        }
      ],
      "source": [
        "train_datagen = ImageDataGenerator(rescale = 1./255,\n",
        "                                   shear_range = 0.2,\n",
        "                                   zoom_range = 0.2,\n",
        "                                   horizontal_flip = True)\n",
        "train = train_datagen.flow_from_directory(\"/content/drive/MyDrive/data/chest_xray/train\",\n",
        "                                                 target_size = (64, 64),\n",
        "                                                 batch_size = 32,\n",
        "                                                 class_mode = 'binary')"
      ]
    },
    {
      "cell_type": "markdown",
      "id": "0a4f0f6e",
      "metadata": {
        "papermill": {
          "duration": 0.065841,
          "end_time": "2022-05-31T14:24:18.365798",
          "exception": false,
          "start_time": "2022-05-31T14:24:18.299957",
          "status": "completed"
        },
        "tags": [],
        "id": "0a4f0f6e"
      },
      "source": [
        "We do the same for validation data. Validation data is used during training to check the accuracy of model on data outside the training set. This helps the model to avoid overfitting or underfitting on the training dataset."
      ]
    },
    {
      "cell_type": "code",
      "execution_count": null,
      "id": "aa3d99b3",
      "metadata": {
        "execution": {
          "iopub.execute_input": "2022-05-31T14:24:18.493332Z",
          "iopub.status.busy": "2022-05-31T14:24:18.492705Z",
          "iopub.status.idle": "2022-05-31T14:24:18.597706Z",
          "shell.execute_reply": "2022-05-31T14:24:18.598270Z",
          "shell.execute_reply.started": "2022-03-22T21:53:27.202832Z"
        },
        "papermill": {
          "duration": 0.171493,
          "end_time": "2022-05-31T14:24:18.598440",
          "exception": false,
          "start_time": "2022-05-31T14:24:18.426947",
          "status": "completed"
        },
        "tags": [],
        "colab": {
          "base_uri": "https://localhost:8080/"
        },
        "id": "aa3d99b3",
        "outputId": "7c071a08-a819-447b-8c59-fe43ad01deb7"
      },
      "outputs": [
        {
          "output_type": "stream",
          "name": "stdout",
          "text": [
            "Found 16 images belonging to 2 classes.\n"
          ]
        }
      ],
      "source": [
        "val_datagen = ImageDataGenerator(rescale = 1./255)\n",
        "val = val_datagen.flow_from_directory(\"/content/drive/MyDrive/data/chest_xray/val\",\n",
        "                                                 target_size = (64, 64),\n",
        "                                                 batch_size = 32,\n",
        "                                                 class_mode = 'binary')"
      ]
    },
    {
      "cell_type": "markdown",
      "id": "3c49cba8",
      "metadata": {
        "papermill": {
          "duration": 0.066266,
          "end_time": "2022-05-31T14:24:18.728506",
          "exception": false,
          "start_time": "2022-05-31T14:24:18.662240",
          "status": "completed"
        },
        "tags": [],
        "id": "3c49cba8"
      },
      "source": [
        "**Testing Data**"
      ]
    },
    {
      "cell_type": "code",
      "execution_count": null,
      "id": "8634a670",
      "metadata": {
        "execution": {
          "iopub.execute_input": "2022-05-31T14:24:18.859455Z",
          "iopub.status.busy": "2022-05-31T14:24:18.858784Z",
          "iopub.status.idle": "2022-05-31T14:24:18.969187Z",
          "shell.execute_reply": "2022-05-31T14:24:18.968501Z",
          "shell.execute_reply.started": "2022-03-22T21:53:57.480494Z"
        },
        "papermill": {
          "duration": 0.177388,
          "end_time": "2022-05-31T14:24:18.969329",
          "exception": false,
          "start_time": "2022-05-31T14:24:18.791941",
          "status": "completed"
        },
        "tags": [],
        "colab": {
          "base_uri": "https://localhost:8080/"
        },
        "id": "8634a670",
        "outputId": "95b96cab-fcdd-4ec4-9f10-522fb7ee9e67"
      },
      "outputs": [
        {
          "output_type": "stream",
          "name": "stdout",
          "text": [
            "Found 624 images belonging to 2 classes.\n"
          ]
        }
      ],
      "source": [
        "test_datagen = ImageDataGenerator(rescale = 1./255)\n",
        "test = test_datagen.flow_from_directory(\"/content/drive/MyDrive/data/chest_xray/test\",\n",
        "                                            target_size = (64, 64),\n",
        "                                            batch_size = 32,\n",
        "                                            class_mode = 'binary')"
      ]
    },
    {
      "cell_type": "markdown",
      "source": [
        "<h2>ML Model</h2>\n",
        "Next we define the NN model and train it on training dataset.\n",
        "<br> \n",
        "The model consists of 4 sets of convolution layes with ReLu activation function and MaxPooling layer. \n",
        "The last convolutional layer is followed by a dense layer with ReLu activation function.\n",
        "For the last layer, we have one neuron with sigmoid activation funtion. We are using adam optimizer for optimization and binary cross entropy as loss function.\n",
        "\n"
      ],
      "metadata": {
        "id": "AvOLoOU021XA"
      },
      "id": "AvOLoOU021XA"
    },
    {
      "cell_type": "code",
      "execution_count": null,
      "id": "97ba4dd7",
      "metadata": {
        "execution": {
          "iopub.execute_input": "2022-05-31T14:24:19.100862Z",
          "iopub.status.busy": "2022-05-31T14:24:19.100139Z",
          "iopub.status.idle": "2022-05-31T14:52:28.435688Z",
          "shell.execute_reply": "2022-05-31T14:52:28.436252Z",
          "shell.execute_reply.started": "2022-03-22T22:25:47.530073Z"
        },
        "papermill": {
          "duration": 1689.403864,
          "end_time": "2022-05-31T14:52:28.436482",
          "exception": false,
          "start_time": "2022-05-31T14:24:19.032618",
          "status": "completed"
        },
        "tags": [],
        "colab": {
          "base_uri": "https://localhost:8080/"
        },
        "id": "97ba4dd7",
        "outputId": "b5b22d69-d9c5-4fe0-f6e1-00c050d0aad6"
      },
      "outputs": [
        {
          "output_type": "stream",
          "name": "stdout",
          "text": [
            "Epoch 1/20\n",
            "163/163 [==============================] - 473s 3s/step - loss: 0.4161 - accuracy: 0.8083 - val_loss: 0.3052 - val_accuracy: 0.8125\n",
            "Epoch 2/20\n",
            "163/163 [==============================] - 72s 444ms/step - loss: 0.2361 - accuracy: 0.9016 - val_loss: 0.0536 - val_accuracy: 1.0000\n",
            "Epoch 3/20\n",
            "163/163 [==============================] - 71s 435ms/step - loss: 0.2128 - accuracy: 0.9155 - val_loss: 0.0479 - val_accuracy: 1.0000\n",
            "Epoch 4/20\n",
            "163/163 [==============================] - 72s 444ms/step - loss: 0.1909 - accuracy: 0.9247 - val_loss: 0.0965 - val_accuracy: 1.0000\n",
            "Epoch 5/20\n",
            "163/163 [==============================] - 72s 438ms/step - loss: 0.1511 - accuracy: 0.9417 - val_loss: 0.0741 - val_accuracy: 1.0000\n",
            "Epoch 6/20\n",
            "163/163 [==============================] - 72s 439ms/step - loss: 0.1492 - accuracy: 0.9415 - val_loss: 0.0465 - val_accuracy: 1.0000\n",
            "Epoch 7/20\n",
            "163/163 [==============================] - 71s 438ms/step - loss: 0.1450 - accuracy: 0.9457 - val_loss: 0.0508 - val_accuracy: 1.0000\n",
            "Epoch 8/20\n",
            "163/163 [==============================] - 71s 438ms/step - loss: 0.1441 - accuracy: 0.9475 - val_loss: 0.0227 - val_accuracy: 1.0000\n",
            "Epoch 9/20\n",
            "163/163 [==============================] - 73s 446ms/step - loss: 0.1267 - accuracy: 0.9536 - val_loss: 0.0153 - val_accuracy: 1.0000\n",
            "Epoch 10/20\n",
            "163/163 [==============================] - 72s 439ms/step - loss: 0.1373 - accuracy: 0.9488 - val_loss: 0.0296 - val_accuracy: 1.0000\n",
            "Epoch 11/20\n",
            "163/163 [==============================] - 71s 438ms/step - loss: 0.1352 - accuracy: 0.9475 - val_loss: 0.0384 - val_accuracy: 1.0000\n",
            "Epoch 12/20\n",
            "163/163 [==============================] - 72s 443ms/step - loss: 0.1313 - accuracy: 0.9469 - val_loss: 0.0123 - val_accuracy: 1.0000\n",
            "Epoch 13/20\n",
            "163/163 [==============================] - 72s 438ms/step - loss: 0.1184 - accuracy: 0.9528 - val_loss: 0.0184 - val_accuracy: 1.0000\n",
            "Epoch 14/20\n",
            "163/163 [==============================] - 71s 436ms/step - loss: 0.1254 - accuracy: 0.9523 - val_loss: 0.0112 - val_accuracy: 1.0000\n",
            "Epoch 15/20\n",
            "163/163 [==============================] - 72s 443ms/step - loss: 0.1069 - accuracy: 0.9584 - val_loss: 0.0134 - val_accuracy: 1.0000\n",
            "Epoch 16/20\n",
            "163/163 [==============================] - 71s 434ms/step - loss: 0.1104 - accuracy: 0.9567 - val_loss: 0.0163 - val_accuracy: 1.0000\n",
            "Epoch 17/20\n",
            "163/163 [==============================] - 71s 437ms/step - loss: 0.1138 - accuracy: 0.9561 - val_loss: 0.0536 - val_accuracy: 1.0000\n",
            "Epoch 18/20\n",
            "163/163 [==============================] - 71s 438ms/step - loss: 0.1213 - accuracy: 0.9551 - val_loss: 0.0149 - val_accuracy: 1.0000\n",
            "Epoch 19/20\n",
            "163/163 [==============================] - 71s 436ms/step - loss: 0.1129 - accuracy: 0.9553 - val_loss: 0.0337 - val_accuracy: 1.0000\n",
            "Epoch 20/20\n",
            "163/163 [==============================] - 72s 439ms/step - loss: 0.1087 - accuracy: 0.9590 - val_loss: 0.0152 - val_accuracy: 1.0000\n",
            "INFO:tensorflow:Assets written to: /content/drive/MyDrive/data/api1/assets\n"
          ]
        }
      ],
      "source": [
        "model = Sequential()\n",
        "model.add(Conv2D(filters=16, kernel_size=3, activation='relu', input_shape=[64, 64, 3]))\n",
        "model.add(MaxPool2D(pool_size=2, strides=2))\n",
        "model.add(Conv2D(filters=32, kernel_size=3, activation='relu'))\n",
        "model.add(MaxPool2D(pool_size=2, strides=2))\n",
        "model.add(Conv2D(filters=64, kernel_size=3, activation='relu'))\n",
        "model.add(MaxPool2D(pool_size=2, strides=2))\n",
        "model.add(Conv2D(filters=64, kernel_size=3, activation='relu'))\n",
        "model.add(MaxPool2D(pool_size=2, strides=2))\n",
        "model.add(Flatten())\n",
        "model.add(Dense(units=128, activation='relu'))\n",
        "model.add(Dense(units=1, activation='sigmoid'))\n",
        "\n",
        "model.compile(optimizer = 'adam', loss = 'binary_crossentropy', metrics = ['accuracy'])\n",
        "history = model.fit(train,validation_data = val, epochs = 20)\n",
        "\n",
        "PATH = '/content/drive/MyDrive/data/api1'\n",
        "model.save(PATH)"
      ]
    },
    {
      "cell_type": "code",
      "execution_count": null,
      "id": "a988f7cb",
      "metadata": {
        "execution": {
          "iopub.execute_input": "2022-05-31T14:52:31.663719Z",
          "iopub.status.busy": "2022-05-31T14:52:31.663060Z",
          "iopub.status.idle": "2022-05-31T14:52:31.915094Z",
          "shell.execute_reply": "2022-05-31T14:52:31.915616Z",
          "shell.execute_reply.started": "2022-03-22T22:48:27.58292Z"
        },
        "papermill": {
          "duration": 1.881878,
          "end_time": "2022-05-31T14:52:31.915776",
          "exception": false,
          "start_time": "2022-05-31T14:52:30.033898",
          "status": "completed"
        },
        "tags": [],
        "colab": {
          "base_uri": "https://localhost:8080/",
          "height": 404
        },
        "id": "a988f7cb",
        "outputId": "746afdbc-d524-4f5c-ad47-cf43c7a87f65"
      },
      "outputs": [
        {
          "output_type": "display_data",
          "data": {
            "text/plain": [
              "<Figure size 600x400 with 1 Axes>"
            ],
            "image/png": "[encoded data removed]"
          },
          "metadata": {
            "needs_background": "light"
          }
        }
      ],
      "source": [
        "## plot loss for train and test\n",
        "\n",
        "loss_train = history.history['loss']\n",
        "loss_val = history.history['val_loss']\n",
        "plt.figure(figsize=(6,4), dpi=100)\n",
        "plt.plot(loss_train, 'g', label = 'Training loss')\n",
        "plt.plot(loss_val, 'y', label = 'Validation loss')\n",
        "plt.title(\"Training and Testing Loss\")\n",
        "plt.xlabel('Epochs')\n",
        "plt.ylabel('Loss')\n",
        "plt.legend()\n",
        "plt.show()"
      ]
    },
    {
      "cell_type": "code",
      "execution_count": null,
      "id": "0cb1e0c5",
      "metadata": {
        "execution": {
          "iopub.execute_input": "2022-05-31T14:52:35.130615Z",
          "iopub.status.busy": "2022-05-31T14:52:35.129875Z",
          "iopub.status.idle": "2022-05-31T14:52:35.355541Z",
          "shell.execute_reply": "2022-05-31T14:52:35.356052Z",
          "shell.execute_reply.started": "2022-03-22T22:48:32.847879Z"
        },
        "papermill": {
          "duration": 1.84701,
          "end_time": "2022-05-31T14:52:35.356235",
          "exception": false,
          "start_time": "2022-05-31T14:52:33.509225",
          "status": "completed"
        },
        "tags": [],
        "colab": {
          "base_uri": "https://localhost:8080/",
          "height": 404
        },
        "id": "0cb1e0c5",
        "outputId": "b95c1828-8fc1-4467-e309-e0f90ab13c15"
      },
      "outputs": [
        {
          "output_type": "display_data",
          "data": {
            "text/plain": [
              "<Figure size 600x400 with 1 Axes>"
            ],
            "image/png": "[encoded data removed]"
          },
          "metadata": {
            "needs_background": "light"
          }
        }
      ],
      "source": [
        "## plot loss for train and test\n",
        "\n",
        "loss_train = history.history['accuracy']\n",
        "loss_val = history.history['val_accuracy']\n",
        "plt.figure(figsize=(6,4), dpi=100)\n",
        "plt.plot( loss_train, 'g', label = 'Training accuracy')\n",
        "plt.plot( loss_val, 'y', label = 'Validation accuracy')\n",
        "plt.title(\"Training and Testing accuracy\")\n",
        "plt.xlabel('Epochs')\n",
        "plt.ylabel('Accuracy')\n",
        "plt.legend()\n",
        "plt.show()"
      ]
    },
    {
      "cell_type": "code",
      "execution_count": null,
      "id": "68ac6358",
      "metadata": {
        "execution": {
          "iopub.execute_input": "2022-05-31T14:52:38.638772Z",
          "iopub.status.busy": "2022-05-31T14:52:38.638117Z",
          "iopub.status.idle": "2022-05-31T14:52:48.993278Z",
          "shell.execute_reply": "2022-05-31T14:52:48.992607Z",
          "shell.execute_reply.started": "2022-03-22T22:48:38.002799Z"
        },
        "papermill": {
          "duration": 12.035686,
          "end_time": "2022-05-31T14:52:48.993427",
          "exception": false,
          "start_time": "2022-05-31T14:52:36.957741",
          "status": "completed"
        },
        "tags": [],
        "colab": {
          "base_uri": "https://localhost:8080/",
          "height": 182
        },
        "id": "68ac6358",
        "outputId": "5d16028b-f84b-4a3e-967a-2c8628fb152b"
      },
      "outputs": [
        {
          "output_type": "error",
          "ename": "NameError",
          "evalue": "ignored",
          "traceback": [
            "\u001b[0;31m---------------------------------------------------------------------------\u001b[0m",
            "\u001b[0;31mNameError\u001b[0m                                 Traceback (most recent call last)",
            "\u001b[0;32m<ipython-input-4-fd350ae88123>\u001b[0m in \u001b[0;36m<module>\u001b[0;34m()\u001b[0m\n\u001b[0;32m----> 1\u001b[0;31m \u001b[0mresults\u001b[0m \u001b[0;34m=\u001b[0m \u001b[0mmodel\u001b[0m\u001b[0;34m.\u001b[0m\u001b[0mevaluate\u001b[0m\u001b[0;34m(\u001b[0m\u001b[0mtest\u001b[0m\u001b[0;34m)\u001b[0m\u001b[0;34m\u001b[0m\u001b[0;34m\u001b[0m\u001b[0m\n\u001b[0m\u001b[1;32m      2\u001b[0m \u001b[0mprint\u001b[0m\u001b[0;34m(\u001b[0m\u001b[0;34m\"test loss, test acc:\"\u001b[0m\u001b[0;34m,\u001b[0m \u001b[0mresults\u001b[0m\u001b[0;34m)\u001b[0m\u001b[0;34m\u001b[0m\u001b[0;34m\u001b[0m\u001b[0m\n",
            "\u001b[0;31mNameError\u001b[0m: name 'model' is not defined"
          ]
        }
      ],
      "source": [
        "results = model.evaluate(test)\n",
        "print(\"test loss, test acc:\", results)"
      ]
    },
    {
      "cell_type": "code",
      "source": [
        "PATH = '/content/drive/MyDrive/data/api1'\n",
        "model.save(PATH)"
      ],
      "metadata": {
        "id": "ACYecWfa4nFv"
      },
      "id": "ACYecWfa4nFv",
      "execution_count": null,
      "outputs": []
    },
    {
      "cell_type": "code",
      "source": [
        "PATH = '/content/drive/MyDrive/data/api1'\n",
        "cnn = keras.models.load_model(PATH)\n",
        "print(cnn.summary())"
      ],
      "metadata": {
        "colab": {
          "base_uri": "https://localhost:8080/"
        },
        "id": "dOrF_82n5hur",
        "outputId": "c04a6e7f-9c2f-4e84-b2d6-92947a4d8626"
      },
      "id": "dOrF_82n5hur",
      "execution_count": null,
      "outputs": [
        {
          "output_type": "stream",
          "name": "stdout",
          "text": [
            "Model: \"sequential_1\"\n",
            "_________________________________________________________________\n",
            " Layer (type)                Output Shape              Param #   \n",
            "=================================================================\n",
            " conv2d_4 (Conv2D)           (None, 62, 62, 16)        448       \n",
            "                                                                 \n",
            " max_pooling2d_4 (MaxPooling  (None, 31, 31, 16)       0         \n",
            " 2D)                                                             \n",
            "                                                                 \n",
            " conv2d_5 (Conv2D)           (None, 29, 29, 32)        4640      \n",
            "                                                                 \n",
            " max_pooling2d_5 (MaxPooling  (None, 14, 14, 32)       0         \n",
            " 2D)                                                             \n",
            "                                                                 \n",
            " conv2d_6 (Conv2D)           (None, 12, 12, 64)        18496     \n",
            "                                                                 \n",
            " max_pooling2d_6 (MaxPooling  (None, 6, 6, 64)         0         \n",
            " 2D)                                                             \n",
            "                                                                 \n",
            " conv2d_7 (Conv2D)           (None, 4, 4, 64)          36928     \n",
            "                                                                 \n",
            " max_pooling2d_7 (MaxPooling  (None, 2, 2, 64)         0         \n",
            " 2D)                                                             \n",
            "                                                                 \n",
            " flatten_1 (Flatten)         (None, 256)               0         \n",
            "                                                                 \n",
            " dense_2 (Dense)             (None, 128)               32896     \n",
            "                                                                 \n",
            " dense_3 (Dense)             (None, 1)                 129       \n",
            "                                                                 \n",
            "=================================================================\n",
            "Total params: 93,537\n",
            "Trainable params: 93,537\n",
            "Non-trainable params: 0\n",
            "_________________________________________________________________\n",
            "None\n"
          ]
        }
      ]
    },
    {
      "cell_type": "code",
      "source": [
        "results = cnn.evaluate(test)\n",
        "print(\"test loss, test acc:\", results)"
      ],
      "metadata": {
        "id": "ZDFRfNxSTn0H",
        "colab": {
          "base_uri": "https://localhost:8080/"
        },
        "outputId": "f3ae4364-f54a-4bd4-bb57-3262fe78ee08"
      },
      "id": "ZDFRfNxSTn0H",
      "execution_count": null,
      "outputs": [
        {
          "output_type": "stream",
          "name": "stdout",
          "text": [
            "20/20 [==============================] - 67s 3s/step - loss: 0.2728 - accuracy: 0.9103\n",
            "test loss, test acc: [0.2727903425693512, 0.9102563858032227]\n"
          ]
        }
      ]
    },
    {
      "cell_type": "code",
      "source": [
        ""
      ],
      "metadata": {
        "colab": {
          "base_uri": "https://localhost:8080/",
          "height": 165
        },
        "id": "mlvNjUh8fUgK",
        "outputId": "c1c1c239-83c0-41e1-8fd5-8454b3e5c33f"
      },
      "id": "mlvNjUh8fUgK",
      "execution_count": null,
      "outputs": [
        {
          "output_type": "error",
          "ename": "AttributeError",
          "evalue": "ignored",
          "traceback": [
            "\u001b[0;31m---------------------------------------------------------------------------\u001b[0m",
            "\u001b[0;31mAttributeError\u001b[0m                            Traceback (most recent call last)",
            "\u001b[0;32m<ipython-input-7-59a75ec148bb>\u001b[0m in \u001b[0;36m<module>\u001b[0;34m()\u001b[0m\n\u001b[0;32m----> 1\u001b[0;31m \u001b[0mprint\u001b[0m\u001b[0;34m(\u001b[0m\u001b[0mtest\u001b[0m\u001b[0;34m.\u001b[0m\u001b[0mshape\u001b[0m\u001b[0;34m)\u001b[0m\u001b[0;34m\u001b[0m\u001b[0;34m\u001b[0m\u001b[0m\n\u001b[0m",
            "\u001b[0;31mAttributeError\u001b[0m: 'DirectoryIterator' object has no attribute 'shape'"
          ]
        }
      ]
    },
    {
      "cell_type": "code",
      "source": [
        ""
      ],
      "metadata": {
        "id": "QXV4srhxf2YI"
      },
      "id": "QXV4srhxf2YI",
      "execution_count": null,
      "outputs": []
    }
  ],
  "metadata": {
    "kernelspec": {
      "display_name": "Python 3",
      "language": "python",
      "name": "python3"
    },
    "language_info": {
      "codemirror_mode": {
        "name": "ipython",
        "version": 3
      },
      "file_extension": ".py",
      "mimetype": "text/x-python",
      "name": "python",
      "nbconvert_exporter": "python",
      "pygments_lexer": "ipython3",
      "version": "3.7.12"
    },
    "papermill": {
      "default_parameters": {},
      "duration": 1755.316207,
      "end_time": "2022-05-31T14:52:53.969378",
      "environment_variables": {},
      "exception": null,
      "input_path": "__notebook__.ipynb",
      "output_path": "__notebook__.ipynb",
      "parameters": {},
      "start_time": "2022-05-31T14:23:38.653171",
      "version": "2.3.3"
    },
    "colab": {
      "name": "deep-learning-classification-chest-x-ray-images.ipynb",
      "provenance": [],
      "collapsed_sections": [],
      "include_colab_link": true
    }
  },
  "nbformat": 4,
  "nbformat_minor": 5
}